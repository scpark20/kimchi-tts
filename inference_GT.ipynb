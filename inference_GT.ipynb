{
 "cells": [
  {
   "cell_type": "code",
   "execution_count": 1,
   "metadata": {},
   "outputs": [],
   "source": [
    "import warnings\n",
    "warnings.filterwarnings('ignore')\n",
    "\n",
    "import os\n",
    "import torch\n",
    "from torch import nn\n",
    "\n",
    "from hparams.hparams_GT import create_hparams\n",
    "from datasets import LJDataset, TextMelCollate"
   ]
  },
  {
   "cell_type": "code",
   "execution_count": 2,
   "metadata": {},
   "outputs": [
    {
     "name": "stdout",
     "output_type": "stream",
     "text": [
      "Tue Mar 23 20:14:31 2021       \r\n",
      "+-----------------------------------------------------------------------------+\r\n",
      "| NVIDIA-SMI 460.32.03    Driver Version: 460.32.03    CUDA Version: 11.2     |\r\n",
      "|-------------------------------+----------------------+----------------------+\r\n",
      "| GPU  Name        Persistence-M| Bus-Id        Disp.A | Volatile Uncorr. ECC |\r\n",
      "| Fan  Temp  Perf  Pwr:Usage/Cap|         Memory-Usage | GPU-Util  Compute M. |\r\n",
      "|                               |                      |               MIG M. |\r\n",
      "|===============================+======================+======================|\r\n",
      "|   0  GeForce RTX 208...  Off  | 00000000:2E:00.0 Off |                  N/A |\r\n",
      "| 53%   56C    P8    43W / 250W |   2660MiB / 11016MiB |      0%      Default |\r\n",
      "|                               |                      |                  N/A |\r\n",
      "+-------------------------------+----------------------+----------------------+\r\n",
      "|   1  GeForce RTX 208...  Off  | 00000000:2F:00.0 Off |                  N/A |\r\n",
      "| 26%   57C    P0    49W / 250W |      0MiB / 11019MiB |      0%      Default |\r\n",
      "|                               |                      |                  N/A |\r\n",
      "+-------------------------------+----------------------+----------------------+\r\n",
      "                                                                               \r\n",
      "+-----------------------------------------------------------------------------+\r\n",
      "| Processes:                                                                  |\r\n",
      "|  GPU   GI   CI        PID   Type   Process name                  GPU Memory |\r\n",
      "|        ID   ID                                                   Usage      |\r\n",
      "|=============================================================================|\r\n",
      "|    0   N/A  N/A     17884      C   ...onda3/envs/vae/bin/python     2657MiB |\r\n",
      "+-----------------------------------------------------------------------------+\r\n"
     ]
    }
   ],
   "source": [
    "!nvidia-smi\n",
    "os.environ[\"CUDA_VISIBLE_DEVICES\"]=\"0\""
   ]
  },
  {
   "cell_type": "code",
   "execution_count": 3,
   "metadata": {},
   "outputs": [
    {
     "name": "stdout",
     "output_type": "stream",
     "text": [
      "done\n",
      "done\n"
     ]
    }
   ],
   "source": [
    "from parallel_wavegan.utils import download_pretrained_model\n",
    "from parallel_wavegan.utils import load_model\n",
    "\n",
    "device='cuda'\n",
    "vocoder_tag = \"ljspeech_parallel_wavegan.v3\"\n",
    "\n",
    "# NOTE: Sometimes download is failed due to \"Permission denied\". That is \n",
    "#   the limitation of google drive. Please retry after serveral hours.\n",
    "vocoder = load_model(download_pretrained_model(vocoder_tag)).to(device).eval()\n",
    "vocoder.remove_weight_norm()\n",
    "print('done')\n",
    "\n",
    "from parallel_wavegan.utils import read_hdf5\n",
    "\n",
    "stats_filename = \"/home/rubato/.cache/parallel_wavegan/ljspeech_parallel_wavegan.v3/stats.h5\"\n",
    "mean = read_hdf5(stats_filename, 'mean')\n",
    "scale = read_hdf5(stats_filename, 'scale')\n",
    "print('done')"
   ]
  },
  {
   "cell_type": "code",
   "execution_count": 4,
   "metadata": {},
   "outputs": [
    {
     "name": "stdout",
     "output_type": "stream",
     "text": [
      "<torch.utils.data.dataloader.DataLoader object at 0x7fce7ea79970>\n"
     ]
    }
   ],
   "source": [
    "stt_hparams, tts_hparams = create_hparams()\n",
    "testset = LJDataset(tts_hparams, split='test')\n",
    "collate_fn = TextMelCollate(tts_hparams)\n",
    "\n",
    "test_loader = torch.utils.data.DataLoader(testset, num_workers=1, \n",
    "                          shuffle=False, sampler=None, batch_size=1, pin_memory=False,\n",
    "                          drop_last=True, collate_fn=collate_fn)\n",
    "print(test_loader)"
   ]
  },
  {
   "cell_type": "code",
   "execution_count": 5,
   "metadata": {},
   "outputs": [],
   "source": [
    "def to_cuda(batch):\n",
    "    batch['text'] = batch['text'].cuda()\n",
    "    batch['text_lengths'] = batch['text_lengths'].cuda()\n",
    "    batch['mels'] = batch['mels'].cuda()\n",
    "    batch['mel_lengths'] = batch['mel_lengths'].cuda()\n",
    "    \n",
    "    return batch"
   ]
  },
  {
   "cell_type": "code",
   "execution_count": 6,
   "metadata": {},
   "outputs": [],
   "source": [
    "!mkdir inference/exp5/GTMEL"
   ]
  },
  {
   "cell_type": "code",
   "execution_count": 8,
   "metadata": {
    "scrolled": false
   },
   "outputs": [
    {
     "name": "stdout",
     "output_type": "stream",
     "text": [
      "mkdir: `inference/exp5/GTMEL/' 디렉토리를 만들 수 없습니다: 파일이 있습니다\n",
      "0 The Middle Ages brought calligraphy to perfection, and it was natural therefore\n",
      "1 that the forms of printed letters should follow more or less closely those of the written character, and they followed them very closely.\n",
      "2 especially as regards the lower-case letters; and type very similar was used during the next fifteen or twenty years not only by Schoeffer,\n",
      "3 a very few years saw the birth of Roman character not only in Italy, but in Germany and France.\n",
      "4 and used an exceedingly beautiful type, which is indeed to look at a transition between Gothic and Roman,\n",
      "5 John of Spires and his brother Vindelin, followed by Nicholas Jenson, began to print in that city,\n",
      "6 fourteen sixty-nine, fourteen seventy;\n",
      "7 and though the famous family of Aldus restored its technical excellence, rejecting battered letters,\n",
      "8 yet their type is artistically on a much lower level than Jenson's, and in fact\n",
      "9 they must be considered to have ended the age of fine printing in Italy.\n",
      "10 Jenson, however, had many contemporaries who used beautiful type,\n",
      "11 It must be understood that through the whole of the fifteenth and the first quarter of the sixteenth centuries\n",
      "12 Most of Caxton's own types are of an earlier character, though they also much resemble Flemish or Cologne letter.\n",
      "13 the best, mostly French or Low-Country, was neat and clear, but without any distinction;\n",
      "14 and things got worse and worse through the whole of the seventeenth century, so that in the eighteenth printing was very miserably performed.\n",
      "15 were the leaders in this luckless change, though our own Baskerville, who was at work some years before them, went much on the same lines;\n",
      "16 These and similar founts, cast by the above firm and others,\n",
      "17 but the general revival of the old forms has made no way in those countries.\n",
      "18 which title can only be claimed by artistic practice, whether the art in it be conscious or unconscious.\n",
      "19 and the elegance and legibility of the ancient more striking than in the Arabic numerals.\n",
      "20 that he has a five, an eight, or a three before him, unless the press work is of the best:\n",
      "21 this is awkward if you have to read Bradshaw's Guide in a hurry.\n",
      "22 this is the narrowing of the modern letters.\n",
      "23 the lateral compression of his letters renders necessary.\n",
      "24 In good printing the spaces between the words should be as near as possible equal\n",
      "25 it is impossible that they should be quite equal except in lines of poetry\n",
      "26 For where these are boldly and carefully designed, and each letter is thoroughly individual in form,\n",
      "27 which requires the constant exercise of judgment and taste on the part of the printer.\n",
      "28 The position of the page on the paper should be considered if the book is to have a satisfactory look.\n",
      "29 The modern printer, in the teeth of the evidence given by his own eyes, considers the single page as the unit, and prints the page in the middle of his paper\n",
      "30 and that laterally the page looks as if it were being driven off the paper.\n",
      "31 The paper on which the printing is to be done is a necessary part of our subject:\n",
      "32 is the habit that publishers have of eking out a thin volume by printing it on thick paper almost of the substance of cardboard,\n",
      "33 because the modern practice is to disregard the relation between the printing and the ornament altogether,\n",
      "34 so that if the two are helpful to one another it is a mere matter of accident.\n",
      "35 The due relation of letter to pictures and other ornament was thoroughly understood by the old printers; so that\n",
      "36 all books might be at least comely and well-looking: and if to these good qualities were added really beautiful ornament and pictures,\n",
      "37 Under the conditions referred to in the previous chapter,\n",
      "38 The new jail fell as far short of the demands made on it as did the old.\n",
      "39 Neild gives some figures which well illustrate this.\n",
      "40 On the fourteenth June, eighteen hundred, there were one hundred ninety-nine debtors and two hundred eighty-nine felons in the prison.\n",
      "41 After that they fell as steadily,\n",
      "42 who seldom let a session go by without visiting Newgate.\n",
      "43 In eighteen thirteen\n",
      "44 In order to realize the evils entailed by incarceration in Newgate in these days, it is necessary to give some account of its interior\n",
      "45 A high wall fifteen feet in height divided the females' court-yard from the men's.\n",
      "46 But these king's witnesses were also put at times into the press yard among the capital convicts, seemingly a very dangerous proceeding,\n",
      "47 to the various wards their friends occupied.\n",
      "48 It was large and comparatively commodious, being maintained on a better footing than any other part of the prison.\n",
      "49 The state side contained twelve good-sized rooms,\n",
      "done\n"
     ]
    }
   ],
   "source": [
    "import matplotlib.pyplot as plt\n",
    "import librosa.display\n",
    "import numpy as np\n",
    "import time \n",
    "import soundfile as sf\n",
    "\n",
    "indexes = [15, 16, 26, 29, 31, 43, 44, 49, 51, 52, 53, 59, 70, 73, 75, 87, 94, 102, 116, 118, 121, 122, 124, 128, 133, 134, 142, 145, 146, 151, 154, 155, 165, 175, 176, 177, 183, 187, 189, 192, 193, 197, 204, 205, 213, 236, 245, 254, 256, 261, 274, 289, 293, 297, 299, 302, 303, 304, 305, 308, 309, 310, 312, 314, 316, 321, 323, 330, 331, 333, 338, 342, 346, 349, 350, 352, 364, 371, 373, 374, 382, 389, 391, 405, 416, 417, 421, 426, 428, 432, 439, 443, 445, 460, 474, 480, 481, 487, 489, 517]\n",
    "\n",
    "inference_dir = 'inference/exp5/GTMEL/'\n",
    "!mkdir $inference_dir\n",
    "\n",
    "vocoder.eval()\n",
    "with torch.no_grad():\n",
    "    for i, batch in enumerate(test_loader):\n",
    "        if i not in indexes[:50]:\n",
    "            continue\n",
    "        \n",
    "        index = indexes.index(i)\n",
    "        print(index, batch['strings'][0])\n",
    "        batch = to_cuda(batch)\n",
    "        _s = batch['mels'].data.cpu().numpy()\n",
    "        _mel = _s[0].T\n",
    "        _mel = (_mel - mean) / scale\n",
    "        mel = torch.from_numpy(_mel).cuda()\n",
    "        wav = vocoder.inference(mel)\n",
    "        _wav = wav[:, 0].data.cpu().numpy()\n",
    "        save_path = inference_dir + 'inference_' + str(index) + '_GTMEL.wav'\n",
    "        sf.write(save_path, _wav, 22050, subtype='PCM_16')\n",
    "        \n",
    "print('done')"
   ]
  },
  {
   "cell_type": "code",
   "execution_count": 13,
   "metadata": {},
   "outputs": [
    {
     "name": "stdout",
     "output_type": "stream",
     "text": [
      "mkdir: `inference/exp3/GT/' 디렉토리를 만들 수 없습니다: 파일이 있습니다\n",
      "0 The Middle Ages brought calligraphy to perfection, and it was natural therefore\n",
      "1 that the forms of printed letters should follow more or less closely those of the written character, and they followed them very closely.\n",
      "2 especially as regards the lower-case letters; and type very similar was used during the next fifteen or twenty years not only by Schoeffer,\n",
      "3 a very few years saw the birth of Roman character not only in Italy, but in Germany and France.\n",
      "4 and used an exceedingly beautiful type, which is indeed to look at a transition between Gothic and Roman,\n",
      "5 John of Spires and his brother Vindelin, followed by Nicholas Jenson, began to print in that city,\n",
      "6 fourteen sixty-nine, fourteen seventy;\n",
      "7 and though the famous family of Aldus restored its technical excellence, rejecting battered letters,\n",
      "8 yet their type is artistically on a much lower level than Jenson's, and in fact\n",
      "9 they must be considered to have ended the age of fine printing in Italy.\n",
      "10 Jenson, however, had many contemporaries who used beautiful type,\n",
      "11 It must be understood that through the whole of the fifteenth and the first quarter of the sixteenth centuries\n",
      "12 Most of Caxton's own types are of an earlier character, though they also much resemble Flemish or Cologne letter.\n",
      "13 the best, mostly French or Low-Country, was neat and clear, but without any distinction;\n",
      "14 and things got worse and worse through the whole of the seventeenth century, so that in the eighteenth printing was very miserably performed.\n",
      "15 were the leaders in this luckless change, though our own Baskerville, who was at work some years before them, went much on the same lines;\n",
      "16 These and similar founts, cast by the above firm and others,\n",
      "17 but the general revival of the old forms has made no way in those countries.\n",
      "18 which title can only be claimed by artistic practice, whether the art in it be conscious or unconscious.\n",
      "19 and the elegance and legibility of the ancient more striking than in the Arabic numerals.\n",
      "20 that he has a five, an eight, or a three before him, unless the press work is of the best:\n",
      "21 this is awkward if you have to read Bradshaw's Guide in a hurry.\n",
      "22 this is the narrowing of the modern letters.\n",
      "23 the modern letters are narrowed by a third or thereabout; but while this gain of space very much hampers the possibility of beauty of design,\n",
      "24 In good printing the spaces between the words should be as near as possible equal\n",
      "25 it is impossible that they should be quite equal except in lines of poetry\n",
      "26 For where these are boldly and carefully designed, and each letter is thoroughly individual in form,\n",
      "27 which requires the constant exercise of judgment and taste on the part of the printer.\n",
      "28 The position of the page on the paper should be considered if the book is to have a satisfactory look.\n",
      "29 The modern printer, in the teeth of the evidence given by his own eyes, considers the single page as the unit, and prints the page in the middle of his paper\n",
      "30 and that laterally the page looks as if it were being driven off the paper.\n",
      "31 The paper on which the printing is to be done is a necessary part of our subject:\n",
      "32 is the habit that publishers have of eking out a thin volume by printing it on thick paper almost of the substance of cardboard,\n",
      "33 because the modern practice is to disregard the relation between the printing and the ornament altogether,\n",
      "34 so that if the two are helpful to one another it is a mere matter of accident.\n",
      "35 The due relation of letter to pictures and other ornament was thoroughly understood by the old printers; so that\n",
      "36 all books might be at least comely and well-looking: and if to these good qualities were added really beautiful ornament and pictures,\n",
      "37 Under the conditions referred to in the previous chapter,\n",
      "38 The new jail fell as far short of the demands made on it as did the old.\n",
      "39 Neild gives some figures which well illustrate this.\n",
      "40 On the fourteenth June, eighteen hundred, there were one hundred ninety-nine debtors and two hundred eighty-nine felons in the prison.\n",
      "41 After that they fell as steadily,\n",
      "42 who seldom let a session go by without visiting Newgate.\n",
      "43 In eighteen thirteen\n",
      "44 In order to realize the evils entailed by incarceration in Newgate in these days, it is necessary to give some account of its interior\n",
      "45 A high wall fifteen feet in height divided the females' court-yard from the men's.\n",
      "46 But these king's witnesses were also put at times into the press yard among the capital convicts, seemingly a very dangerous proceeding,\n",
      "47 to the various wards their friends occupied.\n",
      "48 It was large and comparatively commodious, being maintained on a better footing than any other part of the prison.\n",
      "49 The state side contained twelve good-sized rooms,\n",
      "done\n"
     ]
    }
   ],
   "source": [
    "import matplotlib.pyplot as plt\n",
    "import librosa.display\n",
    "import numpy as np\n",
    "import time \n",
    "import soundfile as sf\n",
    "\n",
    "indexes = [15, 16, 26, 29, 31, 43, 44, 49, 51, 52, 53, 59, 70, 73, 75, 87, 94, 102, 116, 118, 121, 122, 124, 126, 133, 134, 142, 145, 146, 151, 154, 155, 165, 175, 176, 177, 183, 187, 189, 192, 193, 197, 204, 205, 213, 236, 245, 254, 256, 261, 274, 289, 293, 297, 299, 302, 303, 304, 305, 308, 309, 310, 312, 314, 316, 321, 323, 330, 331, 333, 338, 342, 346, 349, 350, 352, 364, 371, 373, 374, 382, 389, 391, 405, 416, 417, 421, 426, 428, 432, 439, 443, 445, 460, 474, 480, 481, 487, 489, 517]\n",
    "\n",
    "inference_dir = 'inference/exp3/GT/'\n",
    "!mkdir $inference_dir\n",
    "\n",
    "vocoder.eval()\n",
    "with torch.no_grad():\n",
    "    for i, batch in enumerate(test_loader):\n",
    "        if i not in indexes[:50]:\n",
    "            continue\n",
    "        \n",
    "        index = indexes.index(i)\n",
    "        print(index, batch['strings'][0])\n",
    "        batch = to_cuda(batch)\n",
    "        _wav = batch['wavs'][0]\n",
    "        save_path = inference_dir + 'inference_' + str(index) + '_GT.wav'\n",
    "        sf.write(save_path, _wav, 22050, subtype='PCM_16')\n",
    "        \n",
    "print('done')"
   ]
  },
  {
   "cell_type": "code",
   "execution_count": null,
   "metadata": {},
   "outputs": [],
   "source": []
  }
 ],
 "metadata": {
  "kernelspec": {
   "display_name": "Python 3",
   "language": "python",
   "name": "python3"
  },
  "language_info": {
   "codemirror_mode": {
    "name": "ipython",
    "version": 3
   },
   "file_extension": ".py",
   "mimetype": "text/x-python",
   "name": "python",
   "nbconvert_exporter": "python",
   "pygments_lexer": "ipython3",
   "version": "3.8.5"
  }
 },
 "nbformat": 4,
 "nbformat_minor": 4
}
