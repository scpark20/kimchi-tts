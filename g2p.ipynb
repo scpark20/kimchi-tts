{
 "cells": [
  {
   "cell_type": "code",
   "execution_count": 3,
   "metadata": {},
   "outputs": [
    {
     "name": "stdout",
     "output_type": "stream",
     "text": [
      "AY1 HHAE1V TUW1 HHAH1NDRAH0D FIH1FTIY0 DAA1LER0Z IH0N MAY1 PAA1KAH0T .\n",
      "PAA1PYAH0LER0 PEH1TS , FAO1R IH0GZAE1MPAH0L KAE1TS AH0ND DAA1GZ\n",
      "AY1 RIH0FYUW1Z TUW1 KAH0LEH1KT DHAH0 REH1FYUW2Z ER0AW1ND HHIY1R .\n",
      "AY1M AE1N AE2KTIH0VEY1SHAH0NIH0ST .\n"
     ]
    }
   ],
   "source": [
    "from g2p_en import G2p\n",
    "\n",
    "texts = [\"I have $250 in my pocket.\", # number -> spell-out\n",
    "         \"popular pets, e.g. cats and dogs\", # e.g. -> for example\n",
    "         \"I refuse to collect the refuse around here.\", # homograph\n",
    "         \"I'm an activationist.\"] # newly coined word\n",
    "g2p = G2p()\n",
    "for text in texts:\n",
    "    out = g2p(text)\n",
    "    os = \"\"\n",
    "    for o in out:\n",
    "        os += o\n",
    "    print(os)"
   ]
  },
  {
   "cell_type": "code",
   "execution_count": 2,
   "metadata": {},
   "outputs": [
    {
     "data": {
      "text/plain": [
       "['AY1',\n",
       " 'M',\n",
       " ' ',\n",
       " 'AE1',\n",
       " 'N',\n",
       " ' ',\n",
       " 'AE2',\n",
       " 'K',\n",
       " 'T',\n",
       " 'IH0',\n",
       " 'V',\n",
       " 'EY1',\n",
       " 'SH',\n",
       " 'AH0',\n",
       " 'N',\n",
       " 'IH0',\n",
       " 'S',\n",
       " 'T',\n",
       " ' ',\n",
       " '.']"
      ]
     },
     "execution_count": 2,
     "metadata": {},
     "output_type": "execute_result"
    }
   ],
   "source": [
    "out"
   ]
  },
  {
   "cell_type": "code",
   "execution_count": null,
   "metadata": {},
   "outputs": [],
   "source": []
  }
 ],
 "metadata": {
  "kernelspec": {
   "display_name": "Python 3",
   "language": "python",
   "name": "python3"
  },
  "language_info": {
   "codemirror_mode": {
    "name": "ipython",
    "version": 3
   },
   "file_extension": ".py",
   "mimetype": "text/x-python",
   "name": "python",
   "nbconvert_exporter": "python",
   "pygments_lexer": "ipython3",
   "version": "3.7.7"
  }
 },
 "nbformat": 4,
 "nbformat_minor": 4
}
