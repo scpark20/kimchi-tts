{
 "cells": [
  {
   "cell_type": "code",
   "execution_count": 5,
   "id": "silent-garden",
   "metadata": {},
   "outputs": [
    {
     "name": "stdout",
     "output_type": "stream",
     "text": [
      "[ 0 65 72 48 66 86 69 82 50 68 67 72 65 72 48 80 65 72 49 76 67 72 70 65\n",
      " 72 48 83  0]\n"
     ]
    }
   ],
   "source": [
    "from g2p_en import G2p\n",
    "import numpy as np\n",
    "\n",
    "g2p_en = G2p()\n",
    "\n",
    "text = 'Aabcdefghijklmnopqrstuvwxyz'\n",
    "text_array = g2p_en(text)\n",
    "text = \"\"\n",
    "for t in text_array:\n",
    "    text += t\n",
    "text_utf = text.encode()\n",
    "ts = [0]\n",
    "for t in text_utf:\n",
    "    ts.append(t)\n",
    "ts.append(0)    \n",
    "utf8_values = np.array(ts)\n",
    "print(utf8_values)"
   ]
  },
  {
   "cell_type": "code",
   "execution_count": null,
   "id": "breathing-california",
   "metadata": {},
   "outputs": [],
   "source": []
  }
 ],
 "metadata": {
  "kernelspec": {
   "display_name": "Python 3",
   "language": "python",
   "name": "python3"
  },
  "language_info": {
   "codemirror_mode": {
    "name": "ipython",
    "version": 3
   },
   "file_extension": ".py",
   "mimetype": "text/x-python",
   "name": "python",
   "nbconvert_exporter": "python",
   "pygments_lexer": "ipython3",
   "version": "3.8.5"
  }
 },
 "nbformat": 4,
 "nbformat_minor": 5
}
