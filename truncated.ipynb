{
 "cells": [
  {
   "cell_type": "code",
   "execution_count": 1,
   "id": "dental-shoulder",
   "metadata": {},
   "outputs": [],
   "source": [
    "import torch\n",
    "from TruncatedNormal import TruncatedStandardNormal"
   ]
  },
  {
   "cell_type": "code",
   "execution_count": 2,
   "id": "innovative-validation",
   "metadata": {},
   "outputs": [],
   "source": [
    "t = torch.randn(1, 100)"
   ]
  },
  {
   "cell_type": "code",
   "execution_count": 3,
   "id": "answering-marketplace",
   "metadata": {},
   "outputs": [
    {
     "name": "stdout",
     "output_type": "stream",
     "text": [
      "TruncatedStandardNormal(a: -3.0, b: 3.0)\n"
     ]
    }
   ],
   "source": [
    "tsn = TruncatedStandardNormal(a=-3, b=3)\n",
    "print(tsn)"
   ]
  },
  {
   "cell_type": "code",
   "execution_count": 5,
   "id": "changing-david",
   "metadata": {},
   "outputs": [
    {
     "data": {
      "text/plain": [
       "tensor([[ 1.9088e+00, -6.8238e-01, -2.0088e+00, -2.6941e+00,  6.4548e-02,\n",
       "         -8.5816e-02, -1.3128e+00, -3.9700e-01,  1.4629e-01,  6.1590e-01,\n",
       "          1.8768e+00, -6.0621e-01, -1.0104e+00,  2.6326e-02, -1.6011e+00,\n",
       "         -3.3239e-01,  2.9056e+00,  7.1887e-01, -1.6038e-01, -8.5633e-01,\n",
       "          7.9556e-01, -5.9784e-01, -2.9636e-01, -2.4075e+00,  3.5901e-02,\n",
       "         -4.5801e-01,  1.9948e+00, -1.0841e+00, -2.1421e+00,  6.8974e-01,\n",
       "         -2.2028e+00, -1.9701e+00, -1.6951e+00, -5.1357e-01,  1.8694e-01,\n",
       "          7.6010e-02,  1.0973e+00,  3.0310e-01,  1.0953e+00, -1.8521e+00,\n",
       "          4.6525e-01,  7.1238e-03, -1.7098e+00,  1.0604e+00,  3.5363e-01,\n",
       "          1.2707e+00, -9.1280e-01, -2.0512e+00, -1.7401e+00,  1.0036e+00,\n",
       "          4.7403e-01, -1.2629e+00,  5.6967e-01,  6.2664e-01, -8.1464e-01,\n",
       "         -1.3119e+00,  2.1882e+00,  1.0916e+00, -4.6668e-01,  8.6910e-01,\n",
       "         -6.1023e-01, -4.1704e-01,  6.1089e-01,  1.6873e+00,  5.3039e-01,\n",
       "          1.9829e-03,  8.6241e-02,  6.1184e-01, -4.5179e-01, -5.4636e-01,\n",
       "         -8.2480e-01,  9.1571e-01,  1.5794e+00,  7.2184e-01, -4.2016e-01,\n",
       "         -1.0972e+00,  1.0143e+00,  8.0717e-01,  1.1842e+00, -3.1512e-01,\n",
       "          9.7538e-01, -8.8606e-01, -4.6944e-01,  7.2535e-01, -1.4852e+00,\n",
       "         -3.9218e-01, -8.2489e-01,  1.9918e-01, -5.5063e-02, -1.6188e+00,\n",
       "         -6.3821e-01, -5.0674e-01,  2.4913e-01,  4.3037e-01, -4.2214e-01,\n",
       "          4.2756e-01, -3.9351e-01,  1.7628e+00, -7.5350e-01,  6.8056e-01]])"
      ]
     },
     "execution_count": 5,
     "metadata": {},
     "output_type": "execute_result"
    }
   ],
   "source": [
    "tsn.rsample(t)"
   ]
  },
  {
   "cell_type": "code",
   "execution_count": null,
   "id": "sustained-logging",
   "metadata": {},
   "outputs": [],
   "source": []
  }
 ],
 "metadata": {
  "kernelspec": {
   "display_name": "Python 3",
   "language": "python",
   "name": "python3"
  },
  "language_info": {
   "codemirror_mode": {
    "name": "ipython",
    "version": 3
   },
   "file_extension": ".py",
   "mimetype": "text/x-python",
   "name": "python",
   "nbconvert_exporter": "python",
   "pygments_lexer": "ipython3",
   "version": "3.8.5"
  }
 },
 "nbformat": 4,
 "nbformat_minor": 5
}
